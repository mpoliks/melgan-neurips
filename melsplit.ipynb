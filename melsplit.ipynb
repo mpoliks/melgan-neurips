{
 "cells": [
  {
   "cell_type": "code",
   "execution_count": 1,
   "metadata": {},
   "outputs": [
    {
     "name": "stdout",
     "output_type": "stream",
     "text": [
      "Created /home/marek/Desktop/code/melgan-neurips/data/wavs/chunk_1.wav\n",
      "Created /home/marek/Desktop/code/melgan-neurips/data/wavs/chunk_2.wav\n",
      "Created /home/marek/Desktop/code/melgan-neurips/data/wavs/chunk_3.wav\n",
      "Created /home/marek/Desktop/code/melgan-neurips/data/wavs/chunk_4.wav\n",
      "Created /home/marek/Desktop/code/melgan-neurips/data/wavs/chunk_5.wav\n",
      "Created /home/marek/Desktop/code/melgan-neurips/data/wavs/chunk_6.wav\n",
      "Created /home/marek/Desktop/code/melgan-neurips/data/wavs/chunk_7.wav\n",
      "Created /home/marek/Desktop/code/melgan-neurips/data/wavs/chunk_8.wav\n",
      "Created /home/marek/Desktop/code/melgan-neurips/data/wavs/chunk_9.wav\n",
      "Created /home/marek/Desktop/code/melgan-neurips/data/wavs/chunk_10.wav\n",
      "Created /home/marek/Desktop/code/melgan-neurips/data/wavs/chunk_11.wav\n",
      "Created /home/marek/Desktop/code/melgan-neurips/data/wavs/chunk_12.wav\n",
      "Created /home/marek/Desktop/code/melgan-neurips/data/wavs/chunk_13.wav\n",
      "Created /home/marek/Desktop/code/melgan-neurips/data/wavs/chunk_14.wav\n",
      "Created /home/marek/Desktop/code/melgan-neurips/data/wavs/chunk_15.wav\n",
      "Created /home/marek/Desktop/code/melgan-neurips/data/wavs/chunk_16.wav\n",
      "Created /home/marek/Desktop/code/melgan-neurips/data/wavs/chunk_17.wav\n",
      "Created /home/marek/Desktop/code/melgan-neurips/data/wavs/chunk_18.wav\n",
      "Created /home/marek/Desktop/code/melgan-neurips/data/wavs/chunk_19.wav\n",
      "Created /home/marek/Desktop/code/melgan-neurips/data/wavs/chunk_20.wav\n"
     ]
    }
   ],
   "source": [
    "import wave\n",
    "import os\n",
    "\n",
    "def split_wav_file(input_file, output_dir, num_chunks=20, target_framerate=44100):\n",
    "    # Ensure the output directory exists\n",
    "    os.makedirs(output_dir, exist_ok=True)\n",
    "    \n",
    "    # Open the input WAV file\n",
    "    with wave.open(input_file, 'rb') as wav:\n",
    "        # Get properties of the input file\n",
    "        n_channels = wav.getnchannels()\n",
    "        sampwidth = wav.getsampwidth()\n",
    "        framerate = wav.getframerate()\n",
    "        n_frames = wav.getnframes()\n",
    "        \n",
    "        if framerate != target_framerate:\n",
    "            raise ValueError(f\"Input file sample rate is {framerate} Hz, but expected {target_framerate} Hz.\")\n",
    "        \n",
    "        # Calculate the number of frames per chunk\n",
    "        frames_per_chunk = n_frames // num_chunks\n",
    "        \n",
    "        # Read all frames from the input file\n",
    "        frames = wav.readframes(n_frames)\n",
    "        \n",
    "        # Split and write chunks\n",
    "        for i in range(num_chunks):\n",
    "            chunk_frames = frames[i * frames_per_chunk * sampwidth * n_channels : (i + 1) * frames_per_chunk * sampwidth * n_channels]\n",
    "            output_file = os.path.join(output_dir, f'chunk_{i+1}.wav')\n",
    "            \n",
    "            with wave.open(output_file, 'wb') as chunk_wav:\n",
    "                chunk_wav.setnchannels(n_channels)\n",
    "                chunk_wav.setsampwidth(sampwidth)\n",
    "                chunk_wav.setframerate(target_framerate)\n",
    "                chunk_wav.writeframes(chunk_frames)\n",
    "                \n",
    "            print(f'Created {output_file}')\n",
    "\n",
    "if __name__ == \"__main__\":\n",
    "    input_file = '/home/marek/Desktop/code/melgan-neurips/data/raw/Avital Ronell - Unfriending the Gods - An American Shakeout.wav' \n",
    "    output_dir = '/home/marek/Desktop/code/melgan-neurips/data/wavs/'\n",
    "    \n",
    "    split_wav_file(input_file, output_dir)\n"
   ]
  }
 ],
 "metadata": {
  "kernelspec": {
   "display_name": "Python 3.10.12 64-bit",
   "language": "python",
   "name": "python3"
  },
  "language_info": {
   "codemirror_mode": {
    "name": "ipython",
    "version": 3
   },
   "file_extension": ".py",
   "mimetype": "text/x-python",
   "name": "python",
   "nbconvert_exporter": "python",
   "pygments_lexer": "ipython3",
   "version": "3.10.12"
  },
  "orig_nbformat": 4,
  "vscode": {
   "interpreter": {
    "hash": "e7370f93d1d0cde622a1f8e1c04877d8463912d04d973331ad4851f04de6915a"
   }
  }
 },
 "nbformat": 4,
 "nbformat_minor": 2
}
